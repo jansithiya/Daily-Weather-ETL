{
 "cells": [
  {
   "cell_type": "markdown",
   "metadata": {},
   "source": [
    "<h1> ETL - Berlin Weather Data </h1>"
   ]
  },
  {
   "cell_type": "code",
   "execution_count": 295,
   "metadata": {},
   "outputs": [],
   "source": [
    "import os\n",
    "import pandas as pd\n",
    "from pandas.io.json import json_normalize\n",
    "import time\n",
    "from datetime import datetime, timedelta\n",
    "import urllib.request\n",
    "import json\n",
    "import matplotlib.pyplot as plt"
   ]
  },
  {
   "cell_type": "markdown",
   "metadata": {},
   "source": [
    "<h2> Extract </h2>"
   ]
  },
  {
   "cell_type": "markdown",
   "metadata": {},
   "source": [
    "Call darksky API to get historical and current weather data for Berlin. \n",
    "<p> For historical data refer - Time Machine Request (https://darksky.net/dev/docs#time-machine-request) \n",
    "<p> Current/forecast weather data - https://darksky.net/dev/docs#forecast-request "
   ]
  },
  {
   "cell_type": "code",
   "execution_count": 296,
   "metadata": {},
   "outputs": [],
   "source": [
    "# Parameters \n",
    "city = \"Berlin\"\n",
    "lat_long = \"52.5200,13.4050\"\n",
    "dateformat = '%Y-%m-%d'\n",
    "previous_day_date = datetime.strftime(datetime.now() - timedelta(1), dateformat)\n",
    "previous_day_epoch = int(time.mktime(time.strptime(previous_day_date, dateformat)))\n",
    "next_day_date = datetime.strftime(datetime.now() + timedelta(1), dateformat)\n",
    "next_day_epoch = int(time.mktime(time.strptime(next_day_date, dateformat)))\n",
    "\n",
    "darksky_api_key = \" \" #replace with key - intentionally left blank\n",
    "darksky_forecast_url = \"https://api.darksky.net/forecast/\" + darksky_api_key + \"/\" + lat_long + \"?units=si\"\n",
    "darksky_tm_request_url = \"https://api.darksky.net/forecast/\" + darksky_api_key + \"/\" \\\n",
    "+ lat_long + \",\" + str(previous_day_epoch) + \"?exclude=currently,units=si\""
   ]
  },
  {
   "cell_type": "code",
   "execution_count": 297,
   "metadata": {},
   "outputs": [],
   "source": [
    "def request_data(url):\n",
    "    open_url = urllib.request.urlopen(url)\n",
    "    weather_json = open_url.read()\n",
    "    open_url.close()\n",
    "    parsed_data = json.loads(weather_json)\n",
    "    return parsed_data"
   ]
  },
  {
   "cell_type": "markdown",
   "metadata": {},
   "source": [
    "<h2> Transformations </h2>\n",
    "\n",
    "In this step, some transformations are done to get current and hourly data. On top of that additional transformations are done to create new column with temperature in additional units and also convert time from unix time to a human readable format"
   ]
  },
  {
   "cell_type": "markdown",
   "metadata": {},
   "source": [
    "<h4> Current Weather Data - Current weather conditions in Berlin </h4>"
   ]
  },
  {
   "cell_type": "code",
   "execution_count": 298,
   "metadata": {},
   "outputs": [],
   "source": [
    "# get current weather conditions\n",
    "current_df = json_normalize(request_data(darksky_forecast_url)['currently']) \n",
    "# convert time from epoch to readable format\n",
    "ts = current_df['time']\n",
    "current_df['formatted_datetime'] = datetime.fromtimestamp(ts).strftime('%Y-%m-%d %H:%M:%S') "
   ]
  },
  {
   "cell_type": "markdown",
   "metadata": {},
   "source": [
    "<h4> Hourly Weather Data - For next 48 hours  </h4>"
   ]
  },
  {
   "cell_type": "code",
   "execution_count": 299,
   "metadata": {},
   "outputs": [],
   "source": [
    "# get hourly forecast dat \n",
    "hourly_df = json_normalize(request_data(darksky_forecast_url)['hourly']['data'])\n",
    "overall_summary = (json_normalize(request_data(darksky_forecast_url)['hourly']))['summary'][0]\n",
    "hourly_df['overall_summary'] = [overall_summary for summary in hourly_df['summary']]\n",
    "# convert time from epoch to readable format\n",
    "hourly_df['formatted_datetime'] = [datetime.fromtimestamp(ts).strftime('%Y-%m-%d %H:%M:%S') \\\n",
    "                                   for ts in hourly_df['time']]\n",
    "hourly_df = hourly_df.sort_values(by=['time'], ascending=[True])"
   ]
  },
  {
   "cell_type": "markdown",
   "metadata": {},
   "source": [
    "<h4> Historical Data - Daily load of previous day data </h4>\n",
    "\n",
    "<p> This is to track historical data - incrementally updated on daily basis with yesterday's data. Let us say we have  table <b>\"daily_weather_berlin\" </b> to track historical data. This table can be leveraged to analyse historical data, create our own forecast model, identify trends and patterns, etc., and therefore we incrementally update this table every day with actual weather data for previous day "
   ]
  },
  {
   "cell_type": "code",
   "execution_count": 300,
   "metadata": {},
   "outputs": [],
   "source": [
    "# get previous day data \n",
    "hist_hourly_df = json_normalize(request_data(darksky_tm_request_url)['hourly']['data'])\n",
    "hist_daily_df = json_normalize(request_data(darksky_tm_request_url)['daily']['data'])\n",
    "# convert time from epoch to readable format\n",
    "hist_hourly_df['formatted_datetime'] = [datetime.fromtimestamp(ts).strftime('%Y-%m-%d %H:%M:%S')\\\n",
    "                                        for ts in hist_hourly_df['time']]\n",
    "hist_daily_df['formatted_datetime'] = [datetime.fromtimestamp(ts).strftime('%Y-%m-%d %H:%M:%S')\\\n",
    "                                       for ts in hist_daily_df['time']]"
   ]
  },
  {
   "cell_type": "markdown",
   "metadata": {},
   "source": [
    "<h2>  Write to CSV </h2>"
   ]
  },
  {
   "cell_type": "code",
   "execution_count": 301,
   "metadata": {},
   "outputs": [],
   "source": [
    "def get_file_name(write_type):    \n",
    "    if write_type =='current weather':\n",
    "        file_name = 'data/current_weather.csv'\n",
    "    elif write_type == 'hourly weather':\n",
    "        file_name = 'data/hourly_forecast.csv'\n",
    "    elif write_type == 'hist daily weather':\n",
    "        file_name = 'data/daily/daily_'+ datetime.strftime(datetime.now() - timedelta(1), '%Y_%m_%d') + '.csv'\n",
    "    elif write_type == 'hist daily at hour weather':\n",
    "        file_name = 'data/daily/daily_at_hour_'+ datetime.strftime(datetime.now() - timedelta(1), '%Y_%m_%d') + '.csv'\n",
    "    elif write_type == 'tomorrow weather':\n",
    "        file_name = 'data/tomorrow_weather.csv'\n",
    "    return file_name\n",
    "\n",
    "def check_file(write_type,df):\n",
    "    file_name = get_file_name(write_type)\n",
    "    exists = os.path.isfile(file_name)\n",
    "    if not exists:\n",
    "        write_csv(file_name,df) \n",
    "    \n",
    "def write_to_csv(file_name, df):\n",
    "    df.to_csv(r''+ file_name, index = None, header=True)"
   ]
  },
  {
   "cell_type": "code",
   "execution_count": 302,
   "metadata": {},
   "outputs": [],
   "source": [
    "# always replace current weather with latest information\n",
    "write_to_csv(get_file_name('current weather'), hourly_df)\n",
    "write_to_csv(get_file_name('hourly weather'), hourly_df)\n",
    "\n",
    "# write observed data only once \n",
    "check_file('hist daily weather',hist_daily_df)\n",
    "check_file('hist daily at hour weather',hist_hourly_df)"
   ]
  },
  {
   "cell_type": "markdown",
   "metadata": {},
   "source": [
    "<h2>2. Forecast for Tomorrow </h2>"
   ]
  },
  {
   "cell_type": "markdown",
   "metadata": {},
   "source": [
    "Latest weather forecast for tomorrow can be obtained from latest hourly data as it provides forecast information for next 48 hours by default "
   ]
  },
  {
   "cell_type": "code",
   "execution_count": 303,
   "metadata": {},
   "outputs": [],
   "source": [
    "forecast_df = pd.read_csv(get_file_name('hourly weather'))\n",
    "forecast_df['formatted_datetime'] = pd.to_datetime(forecast_df['formatted_datetime'].astype(str),\\\n",
    "                                                   format='%Y-%m-%d %H:%M:%S')\n",
    "forecast_df['date'] = forecast_df['formatted_datetime'].dt.date\n",
    "\n",
    "forecast_df['date'] = pd.to_datetime(forecast_df['date'].astype(str),\\\n",
    "                                                   format='%Y-%m-%d')\n",
    "forecast_df['hour'] = forecast_df['formatted_datetime'].dt.hour \n",
    "forecast_df['minute'] = forecast_df['formatted_datetime'].dt.minute \n",
    "tomorrow_forecast = forecast_df.loc[(forecast_df['date'] >= next_day_date) & (forecast_df['date'] <= next_day_date)]\n",
    "tomorrow_forecast.reset_index(inplace=True)"
   ]
  },
  {
   "cell_type": "markdown",
   "metadata": {},
   "source": [
    "<h4> Quickly check what the temperature forecast for tomorrow is like"
   ]
  },
  {
   "cell_type": "code",
   "execution_count": 304,
   "metadata": {},
   "outputs": [
    {
     "data": {
      "image/png": "[encoded data removed]",
      "text/plain": [
       "<Figure size 1080x360 with 1 Axes>"
      ]
     },
     "metadata": {},
     "output_type": "display_data"
    }
   ],
   "source": [
    "ax = plt.gca()\n",
    "tomorrow_forecast.plot(kind='line',x='hour',y='temperature',title = 'Berlin Weather Forecast for ' + \\\n",
    "                       next_day_date, ax=ax,figsize=(15,5))\n",
    "ax.set_xticks(range(len(tomorrow_forecast)));"
   ]
  },
  {
   "cell_type": "markdown",
   "metadata": {},
   "source": [
    "<h4>  Further we could see tomorrow's forecast of important weather parameters on hour level </h4>"
   ]
  },
  {
   "cell_type": "code",
   "execution_count": 305,
   "metadata": {},
   "outputs": [
    {
     "data": {
      "text/html": [
       "<div>\n",
       "<style scoped>\n",
       "    .dataframe tbody tr th:only-of-type {\n",
       "        vertical-align: middle;\n",
       "    }\n",
       "\n",
       "    .dataframe tbody tr th {\n",
       "        vertical-align: top;\n",
       "    }\n",
       "\n",
       "    .dataframe thead th {\n",
       "        text-align: right;\n",
       "    }\n",
       "</style>\n",
       "<table border=\"1\" class=\"dataframe\">\n",
       "  <thead>\n",
       "    <tr style=\"text-align: right;\">\n",
       "      <th></th>\n",
       "      <th>Hour</th>\n",
       "      <th>Forecast</th>\n",
       "      <th>Temperature (°C)</th>\n",
       "      <th>Feels Like (°C)</th>\n",
       "      <th>Wind Speed (m/s)</th>\n",
       "    </tr>\n",
       "  </thead>\n",
       "  <tbody>\n",
       "    <tr>\n",
       "      <th>0</th>\n",
       "      <td>0</td>\n",
       "      <td>Clear</td>\n",
       "      <td>24.21</td>\n",
       "      <td>24.21</td>\n",
       "      <td>4.05</td>\n",
       "    </tr>\n",
       "    <tr>\n",
       "      <th>1</th>\n",
       "      <td>1</td>\n",
       "      <td>Clear</td>\n",
       "      <td>22.82</td>\n",
       "      <td>22.82</td>\n",
       "      <td>4.43</td>\n",
       "    </tr>\n",
       "    <tr>\n",
       "      <th>2</th>\n",
       "      <td>2</td>\n",
       "      <td>Clear</td>\n",
       "      <td>21.66</td>\n",
       "      <td>21.66</td>\n",
       "      <td>4.66</td>\n",
       "    </tr>\n",
       "    <tr>\n",
       "      <th>3</th>\n",
       "      <td>3</td>\n",
       "      <td>Clear</td>\n",
       "      <td>21.03</td>\n",
       "      <td>21.03</td>\n",
       "      <td>4.59</td>\n",
       "    </tr>\n",
       "    <tr>\n",
       "      <th>4</th>\n",
       "      <td>4</td>\n",
       "      <td>Partly Cloudy</td>\n",
       "      <td>20.63</td>\n",
       "      <td>20.67</td>\n",
       "      <td>4.38</td>\n",
       "    </tr>\n",
       "    <tr>\n",
       "      <th>5</th>\n",
       "      <td>5</td>\n",
       "      <td>Partly Cloudy</td>\n",
       "      <td>20.16</td>\n",
       "      <td>20.23</td>\n",
       "      <td>4.37</td>\n",
       "    </tr>\n",
       "    <tr>\n",
       "      <th>6</th>\n",
       "      <td>6</td>\n",
       "      <td>Partly Cloudy</td>\n",
       "      <td>19.14</td>\n",
       "      <td>19.15</td>\n",
       "      <td>4.60</td>\n",
       "    </tr>\n",
       "    <tr>\n",
       "      <th>7</th>\n",
       "      <td>7</td>\n",
       "      <td>Clear</td>\n",
       "      <td>17.87</td>\n",
       "      <td>17.87</td>\n",
       "      <td>5.11</td>\n",
       "    </tr>\n",
       "    <tr>\n",
       "      <th>8</th>\n",
       "      <td>8</td>\n",
       "      <td>Clear</td>\n",
       "      <td>16.57</td>\n",
       "      <td>16.57</td>\n",
       "      <td>5.50</td>\n",
       "    </tr>\n",
       "    <tr>\n",
       "      <th>9</th>\n",
       "      <td>9</td>\n",
       "      <td>Clear</td>\n",
       "      <td>15.60</td>\n",
       "      <td>15.60</td>\n",
       "      <td>5.35</td>\n",
       "    </tr>\n",
       "    <tr>\n",
       "      <th>10</th>\n",
       "      <td>10</td>\n",
       "      <td>Partly Cloudy</td>\n",
       "      <td>15.07</td>\n",
       "      <td>15.07</td>\n",
       "      <td>5.02</td>\n",
       "    </tr>\n",
       "    <tr>\n",
       "      <th>11</th>\n",
       "      <td>11</td>\n",
       "      <td>Partly Cloudy</td>\n",
       "      <td>15.57</td>\n",
       "      <td>15.57</td>\n",
       "      <td>4.99</td>\n",
       "    </tr>\n",
       "    <tr>\n",
       "      <th>12</th>\n",
       "      <td>12</td>\n",
       "      <td>Partly Cloudy</td>\n",
       "      <td>17.26</td>\n",
       "      <td>17.26</td>\n",
       "      <td>5.14</td>\n",
       "    </tr>\n",
       "    <tr>\n",
       "      <th>13</th>\n",
       "      <td>13</td>\n",
       "      <td>Partly Cloudy</td>\n",
       "      <td>19.24</td>\n",
       "      <td>19.24</td>\n",
       "      <td>5.42</td>\n",
       "    </tr>\n",
       "    <tr>\n",
       "      <th>14</th>\n",
       "      <td>14</td>\n",
       "      <td>Partly Cloudy</td>\n",
       "      <td>20.44</td>\n",
       "      <td>20.44</td>\n",
       "      <td>5.76</td>\n",
       "    </tr>\n",
       "    <tr>\n",
       "      <th>15</th>\n",
       "      <td>15</td>\n",
       "      <td>Partly Cloudy</td>\n",
       "      <td>21.08</td>\n",
       "      <td>21.08</td>\n",
       "      <td>6.21</td>\n",
       "    </tr>\n",
       "    <tr>\n",
       "      <th>16</th>\n",
       "      <td>16</td>\n",
       "      <td>Partly Cloudy</td>\n",
       "      <td>21.51</td>\n",
       "      <td>21.51</td>\n",
       "      <td>6.72</td>\n",
       "    </tr>\n",
       "    <tr>\n",
       "      <th>17</th>\n",
       "      <td>17</td>\n",
       "      <td>Breezy</td>\n",
       "      <td>21.43</td>\n",
       "      <td>21.43</td>\n",
       "      <td>7.05</td>\n",
       "    </tr>\n",
       "    <tr>\n",
       "      <th>18</th>\n",
       "      <td>18</td>\n",
       "      <td>Breezy</td>\n",
       "      <td>21.78</td>\n",
       "      <td>21.78</td>\n",
       "      <td>7.09</td>\n",
       "    </tr>\n",
       "    <tr>\n",
       "      <th>19</th>\n",
       "      <td>19</td>\n",
       "      <td>Breezy</td>\n",
       "      <td>22.27</td>\n",
       "      <td>22.27</td>\n",
       "      <td>6.97</td>\n",
       "    </tr>\n",
       "    <tr>\n",
       "      <th>20</th>\n",
       "      <td>20</td>\n",
       "      <td>Clear</td>\n",
       "      <td>22.68</td>\n",
       "      <td>22.68</td>\n",
       "      <td>6.76</td>\n",
       "    </tr>\n",
       "    <tr>\n",
       "      <th>21</th>\n",
       "      <td>21</td>\n",
       "      <td>Clear</td>\n",
       "      <td>22.92</td>\n",
       "      <td>22.92</td>\n",
       "      <td>6.46</td>\n",
       "    </tr>\n",
       "    <tr>\n",
       "      <th>22</th>\n",
       "      <td>22</td>\n",
       "      <td>Clear</td>\n",
       "      <td>22.53</td>\n",
       "      <td>22.53</td>\n",
       "      <td>6.08</td>\n",
       "    </tr>\n",
       "    <tr>\n",
       "      <th>23</th>\n",
       "      <td>23</td>\n",
       "      <td>Clear</td>\n",
       "      <td>21.59</td>\n",
       "      <td>21.59</td>\n",
       "      <td>5.64</td>\n",
       "    </tr>\n",
       "  </tbody>\n",
       "</table>\n",
       "</div>"
      ],
      "text/plain": [
       "    Hour       Forecast  Temperature (°C)  Feels Like (°C)  Wind Speed (m/s)\n",
       "0      0          Clear             24.21            24.21              4.05\n",
       "1      1          Clear             22.82            22.82              4.43\n",
       "2      2          Clear             21.66            21.66              4.66\n",
       "3      3          Clear             21.03            21.03              4.59\n",
       "4      4  Partly Cloudy             20.63            20.67              4.38\n",
       "5      5  Partly Cloudy             20.16            20.23              4.37\n",
       "6      6  Partly Cloudy             19.14            19.15              4.60\n",
       "7      7          Clear             17.87            17.87              5.11\n",
       "8      8          Clear             16.57            16.57              5.50\n",
       "9      9          Clear             15.60            15.60              5.35\n",
       "10    10  Partly Cloudy             15.07            15.07              5.02\n",
       "11    11  Partly Cloudy             15.57            15.57              4.99\n",
       "12    12  Partly Cloudy             17.26            17.26              5.14\n",
       "13    13  Partly Cloudy             19.24            19.24              5.42\n",
       "14    14  Partly Cloudy             20.44            20.44              5.76\n",
       "15    15  Partly Cloudy             21.08            21.08              6.21\n",
       "16    16  Partly Cloudy             21.51            21.51              6.72\n",
       "17    17         Breezy             21.43            21.43              7.05\n",
       "18    18         Breezy             21.78            21.78              7.09\n",
       "19    19         Breezy             22.27            22.27              6.97\n",
       "20    20          Clear             22.68            22.68              6.76\n",
       "21    21          Clear             22.92            22.92              6.46\n",
       "22    22          Clear             22.53            22.53              6.08\n",
       "23    23          Clear             21.59            21.59              5.64"
      ]
     },
     "metadata": {},
     "output_type": "display_data"
    }
   ],
   "source": [
    "tomorrow_forecast_selected = tomorrow_forecast[['hour','summary', 'temperature','apparentTemperature',\\\n",
    "                                                'windSpeed']]\n",
    "\n",
    "tomorrow_forecast_selected = tomorrow_forecast_selected.rename(columns= \\\n",
    "                             {'hour': 'Hour', 'summary': 'Forecast',\\\n",
    "                              'temperature':'Temperature (°C)', 'apparentTemperature': 'Feels Like (°C)',\\\n",
    "                              'windSpeed':'Wind Speed (m/s)'})\n",
    "\n",
    "display(tomorrow_forecast_selected)"
   ]
  },
  {
   "cell_type": "markdown",
   "metadata": {},
   "source": [
    "<h2> 3. KPIs for Atfarm </h2>"
   ]
  },
  {
   "cell_type": "markdown",
   "metadata": {},
   "source": [
    "<h3>Marketing Metrics:</h3>\n",
    "\n",
    "<br>\n",
    "\n",
    "<b>Visitors: </b> Unique visitors visiting atfarm site during given period of time. Useful to track daily unique visitors, monthly unique visitors, average monthly visitors, monthly average of visitors per day.\n",
    "\n",
    "<b> Visitors by traffic sources: </b> Where visitors are finding Atfarm (search, direct visit, referral, etc.,) ? understanding visit source is very important to enhance visibility and optimize the same. \n",
    "\n",
    "<b> Conversion Rate: </b> Out of all unique visitors how many actually signed up to use Atfarm. Total signups/total unique visitors. Further, it is also useful to get conversion rate by browser based and mobile app based\n",
    "\n",
    "<b> Activation Rate: </b> Out of all users  who signed up and confirmed their email address during specific period, how many actually uploaded/provided field map details. Considering nature of Atfarm's business field data from our user is very important; it is of no use that user had just signup and what matters the most is to have relevant data from user so they are engaged to using the product. \n",
    "Further it would be interesting to track 1 day activation, 10 day activation, 1 month activation \n",
    "\n",
    "<b> Customer Acquisition Cost </b>:  Total marketing costs / Total customers acquired  for a given period of time. \n",
    "\n",
    "<b> Marketing Return on Investment (ROI): </b> (Sales Growth - Marketing Costs) / Marketing Costs\n",
    "\n",
    "<b> App Downloads </b>: total app installs for a given period of time. It is also useful to track source of download to evaluate effectiveness of marketing efforts. \n",
    "\n",
    "<br>\n",
    "\n",
    "<h3>Engagement Metrics:</h3>\n",
    "\n",
    "<br>\n",
    "\n",
    "<b> Average Application maps generated per farm account </b> - Average application maps generated per farm account for a given period of time. We could track this metric in different ways, for example, average monthly application maps generated.\n",
    "\n",
    "<b> Average Application maps generated by farm role </b> - Average application maps generated per user(farm role) for a given period of time. This is useful to understand who is using the product more whether the admin or agronomist, driver, contractor, etc., \n",
    "\n",
    "<b> New Users added per farm account </b> - New users added/total farm accounts for a given period of time.\n",
    "\n",
    "<b> Active Users </b> - Unique Users who generated atleast one application map for a given time period. Here we consider farm account.\n",
    "\n",
    "<b> Average Daily Active Users (Monthly) </b> - total active users in a month / days in the month. Here we consider farm account.\n",
    "\n",
    "<b> Session length </b> - time period between opening and closing of app/desktop. Longer the session duration more the engagement. \n",
    "\n",
    "<b> % active users using app </b> - out of all active users for a given period how many users also used their app to generate at least one application map. Here we consider farm account.\n",
    "\n",
    "<b> time spent in app </b> - average number of minutes spent per day, per month for a given time period. This is useful to understand app engagement. Here we consider farm account. \n",
    "\n",
    "<b> Retention Rate </b> - how many users remained active?. Here we consider farm account. \n",
    "Retention rate = (Number of users at end of period – Number of users acquired during period) / # of users at start of period \n",
    "\n",
    "<b> Life Time Value </b> - useful to know how valuable a customer is in the long run. Simple way to calculate could be something like customer revenue minus the costs of acquiring and serving the customer.\n",
    "\n",
    "<br>\n",
    "\n",
    "<h3> Customer Service/Satisfaction Metrics:</h3>\n",
    "<br>\n",
    "\n",
    "Atfarm's business is all about farmers(customers). It is very important to provide high level of customer support and make sure customers are satisfied with offerings therefore it is important to track service metrics\n",
    "\n",
    "<b> Help requests volume (from new users) </b> How many customer requests are coming from a new user in a given period. This refers to the requests from customers who had reached out to us through help center within their account. This could be because they are not able to find right information or needing help to add their maps, etc., \n",
    "Further it would also be useful to track help requests from new unactivated users (new user who did not upload field data) so we can help them with activation. \n",
    "\n",
    "This will help us to understand ease of use of Atfarm's platform if we receive too many requests then may be users are not able to find right information and this would provide us opportunity to understand how we can optimize the platform and make it more user friendly.\n",
    "\n",
    "<b> Help requests volume (All users) </b> similar to above but we track all requests not just those from new users.\n",
    "\n",
    "<b> Resolution Rate: </b> Out of all the help requests received from users during specific period of time, how many did we actually resolve?\n",
    "\n",
    "<b> Average Response Time </b>: On average how long it takes for customer service team to respond to each customer request \n",
    "\n",
    "<b> Average Time to Resolution </b>: How long it takes for customer service team to resolve issues or requests made through help center. "
   ]
  },
  {
   "cell_type": "code",
   "execution_count": null,
   "metadata": {},
   "outputs": [],
   "source": []
  }
 ],
 "metadata": {
  "kernelspec": {
   "display_name": "Python 3",
   "language": "python",
   "name": "python3"
  },
  "language_info": {
   "codemirror_mode": {
    "name": "ipython",
    "version": 3
   },
   "file_extension": ".py",
   "mimetype": "text/x-python",
   "name": "python",
   "nbconvert_exporter": "python",
   "pygments_lexer": "ipython3",
   "version": "3.6.5"
  }
 },
 "nbformat": 4,
 "nbformat_minor": 2
}
